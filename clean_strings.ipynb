{
 "cells": [
  {
   "cell_type": "markdown",
   "id": "7eeaefc2",
   "metadata": {},
   "source": [
    "# String Cleaner"
   ]
  },
  {
   "cell_type": "markdown",
   "id": "f1297789",
   "metadata": {},
   "source": [
    "### Task A"
   ]
  },
  {
   "cell_type": "code",
   "execution_count": 10,
   "id": "9f3fe72d",
   "metadata": {},
   "outputs": [],
   "source": [
    "import pandas as pd \n",
    "df = {}\n",
    "df['raw'] = pd.read_csv(\"messy_strings.csv\")\n",
    "\n",
    "# debug\n",
    "# df['raw']"
   ]
  },
  {
   "cell_type": "markdown",
   "id": "828b358d",
   "metadata": {},
   "source": [
    "### Task B"
   ]
  },
  {
   "cell_type": "code",
   "execution_count": 11,
   "id": "15ae12b0",
   "metadata": {},
   "outputs": [],
   "source": [
    "# baseline Python approach\n",
    "# def clean_strings(strings):\n",
    "#     strings = df['raw'].values.tolist()\n",
    "#     ret = []\n",
    "#     for _ in strings:\n",
    "#         for s in _:\n",
    "#             curr = []\n",
    "#             for x in s:\n",
    "#                 if (ord(x) >= ord('a') and ord(x) <= ord('z')) or (ord(x) >= ord('0') and ord(x) <= ord('9')):\n",
    "#                     curr.append(x)\n",
    "#                 elif ord(x) >= ord('A') and ord(x) <= ord('Z'):\n",
    "#                     curr.append(chr(ord(x)-ord('A')+ord('a')))\n",
    "#             if len(curr) > 0:\n",
    "#                 ret.append(''.join(curr))\n",
    "#     return pd.DataFrame({'clean': ret})\n",
    "\n",
    "# Pandas approach\n",
    "import string\n",
    "def clean_strings(strings):\n",
    "    ret = strings['raw'].astype(str)\n",
    "    ret = ret.str.strip()\n",
    "    ret = ret.str.lower()\n",
    "    for x in string.punctuation:\n",
    "        ret = ret.str.replace(x,'')\n",
    "    ret = ret.dropna()\n",
    "    return pd.DataFrame({'clean':ret})\n",
    "\n",
    "# debug\n",
    "# df['clean'] = clean_strings(df['raw'])\n",
    "# print(df['clean'])"
   ]
  },
  {
   "cell_type": "markdown",
   "id": "7c586544",
   "metadata": {},
   "source": [
    "### Task C"
   ]
  },
  {
   "cell_type": "code",
   "execution_count": 12,
   "id": "358a3395",
   "metadata": {},
   "outputs": [],
   "source": [
    "df['clean'] = clean_strings(df['raw'])\n",
    "\n",
    "# debug\n",
    "# print(df['raw'])\n",
    "# print(df['clean'])"
   ]
  },
  {
   "cell_type": "markdown",
   "id": "a3b6f755",
   "metadata": {},
   "source": [
    "### Task D"
   ]
  },
  {
   "cell_type": "code",
   "execution_count": 13,
   "id": "30444c2b",
   "metadata": {},
   "outputs": [
    {
     "name": "stdout",
     "output_type": "stream",
     "text": [
      "Cleaned data has 50 rows.\n",
      "Cleaned data has 6 unique names.\n",
      "Most common name in cleaned data is \"charlie\".\n"
     ]
    }
   ],
   "source": [
    "print(f\"Cleaned data has {df['clean']['clean'].size} rows.\")\n",
    "print(f\"Cleaned data has {df['clean']['clean'].nunique()} unique names.\")\n",
    "print(f\"Most common name in cleaned data is \\\"{df['clean']['clean'].value_counts().index[0]}\\\".\")"
   ]
  },
  {
   "cell_type": "markdown",
   "id": "5b1b6e99",
   "metadata": {},
   "source": [
    "### Task E"
   ]
  },
  {
   "cell_type": "code",
   "execution_count": 14,
   "id": "1c89f889",
   "metadata": {},
   "outputs": [],
   "source": [
    "# reformat df so it can be converted to csv\n",
    "reformat_dict = {'raw': [], 'clean': []}\n",
    "for x in df['raw'].values.tolist():\n",
    "    reformat_dict['raw'].append(x[0])\n",
    "for x in df['clean'].values.tolist():\n",
    "    reformat_dict['clean'].append(x[0])\n",
    "df_reformat = pd.DataFrame(reformat_dict,index=range(50))\n",
    "\n",
    "# to csv\n",
    "df_reformat.to_csv('messy_strings_clean.csv', index=False)\n",
    "\n",
    "# debug\n",
    "# df_test = pd.read_csv('messy_strings_clean.csv')\n",
    "# print(df_test)"
   ]
  },
  {
   "cell_type": "markdown",
   "id": "4d1800c5",
   "metadata": {},
   "source": [
    "### Task F"
   ]
  },
  {
   "cell_type": "code",
   "execution_count": null,
   "id": "f32f632a",
   "metadata": {},
   "outputs": [
    {
     "data": {
      "text/plain": [
       "<Axes: >"
      ]
     },
     "execution_count": 15,
     "metadata": {},
     "output_type": "execute_result"
    },
    {
     "data": {
      "image/png": "[encoded data removed]",
      "text/plain": [
       "<Figure size 640x480 with 1 Axes>"
      ]
     },
     "metadata": {},
     "output_type": "display_data"
    }
   ],
   "source": [
    "# cleaning for names\n",
    "top_5 = df['clean'].value_counts().head(5)\n",
    "top_5_keys = top_5.keys()\n",
    "o_dict = {}\n",
    "for i in range(len(top_5)):\n",
    "    o_dict[top_5_keys[i][0]] = top_5.iloc[i]\n",
    "# display\n",
    "pd.Series(o_dict).plot.bar()"
   ]
  }
 ],
 "metadata": {
  "kernelspec": {
   "display_name": "lab-3",
   "language": "python",
   "name": "python3"
  },
  "language_info": {
   "codemirror_mode": {
    "name": "ipython",
    "version": 3
   },
   "file_extension": ".py",
   "mimetype": "text/x-python",
   "name": "python",
   "nbconvert_exporter": "python",
   "pygments_lexer": "ipython3",
   "version": "3.13.5"
  }
 },
 "nbformat": 4,
 "nbformat_minor": 5
}
