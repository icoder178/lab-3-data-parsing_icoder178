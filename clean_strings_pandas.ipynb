{
 "cells": [
  {
   "cell_type": "markdown",
   "id": "7eeaefc2",
   "metadata": {},
   "source": [
    "# Pandas version"
   ]
  },
  {
   "cell_type": "markdown",
   "id": "eafd950e",
   "metadata": {},
   "source": [
    "### Task A"
   ]
  },
  {
   "cell_type": "code",
   "execution_count": 52,
   "id": "9f3fe72d",
   "metadata": {},
   "outputs": [],
   "source": [
    "import pandas as pd \n",
    "df = {}\n",
    "df['raw'] = pd.read_csv(\"messy_strings.csv\")\n",
    "\n",
    "# debug\n",
    "# df['raw']"
   ]
  },
  {
   "cell_type": "markdown",
   "id": "828b358d",
   "metadata": {},
   "source": [
    "### Task B"
   ]
  },
  {
   "cell_type": "code",
   "execution_count": 53,
   "id": "15ae12b0",
   "metadata": {},
   "outputs": [
    {
     "name": "stdout",
     "output_type": "stream",
     "text": [
      "             raw\n",
      "0           BOB(\n",
      "1        dana~  \n",
      "2          {EVE/\n",
      "3      \"ALICE   \n",
      "4            BOB\n",
      "5           DANA\n",
      "6        CHARLIE\n",
      "7       alice   \n",
      "8          FRANK\n",
      "9            bob\n",
      "10           eve\n",
      "11        \\dana'\n",
      "12           EVE\n",
      "13      CHARLIE \n",
      "14          -eve\n",
      "15        bob   \n",
      "16           EVE\n",
      "17     .FRANK   \n",
      "18          eve \n",
      "19           EVE\n",
      "20          BOB&\n",
      "21      charlie\"\n",
      "22    ,charlie  \n",
      "23         EVE  \n",
      "24         ]dana\n",
      "25     charlie  \n",
      "26        alice+\n",
      "27         EVE{ \n",
      "28          DANA\n",
      "29       frank  \n",
      "30      CHARLIE!\n",
      "31      |ALICE# \n",
      "32           BOB\n",
      "33        frank^\n",
      "34         alice\n",
      "35          'bob\n",
      "36       CHARLIE\n",
      "37         eve+ \n",
      "38      CHARLIE \n",
      "39       charlie\n",
      "40         dana#\n",
      "41       DANA   \n",
      "42          dana\n",
      "43       CHARLIE\n",
      "44    =charlie! \n",
      "45        bob   \n",
      "46           bob\n",
      "47       ;EVE   \n",
      "48    =charlie  \n",
      "49          dana\n",
      "      clean\n",
      "0       bob\n",
      "1      dana\n",
      "2       eve\n",
      "3     alice\n",
      "4       bob\n",
      "5      dana\n",
      "6   charlie\n",
      "7     alice\n",
      "8     frank\n",
      "9       bob\n",
      "10      eve\n",
      "11     dana\n",
      "12      eve\n",
      "13  charlie\n",
      "14      eve\n",
      "15      bob\n",
      "16      eve\n",
      "17    frank\n",
      "18      eve\n",
      "19      eve\n",
      "20      bob\n",
      "21  charlie\n",
      "22  charlie\n",
      "23      eve\n",
      "24     dana\n",
      "25  charlie\n",
      "26    alice\n",
      "27      eve\n",
      "28     dana\n",
      "29    frank\n",
      "30  charlie\n",
      "31    alice\n",
      "32      bob\n",
      "33    frank\n",
      "34    alice\n",
      "35      bob\n",
      "36  charlie\n",
      "37      eve\n",
      "38  charlie\n",
      "39  charlie\n",
      "40     dana\n",
      "41     dana\n",
      "42     dana\n",
      "43  charlie\n",
      "44  charlie\n",
      "45      bob\n",
      "46      bob\n",
      "47      eve\n",
      "48  charlie\n",
      "49     dana\n"
     ]
    }
   ],
   "source": [
    "import string\n",
    "# TODO: pandas method\n",
    "def clean_strings(strings):\n",
    "    ret = strings['raw'].astype(str)\n",
    "    ret = ret.str.strip()\n",
    "    ret = ret.str.lower()\n",
    "    for x in string.punctuation:\n",
    "        ret = ret.str.replace(x,'')\n",
    "    ret = ret.dropna()\n",
    "    return pd.DataFrame({'clean':ret})\n",
    "\n",
    "# debug\n",
    "# type(df['raw']['raw'])\n",
    "# print(df['raw']['raw'])\n",
    "df['clean'] = clean_strings(df['raw'])\n",
    "print(df['raw'])\n",
    "print(df['clean'])"
   ]
  },
  {
   "cell_type": "markdown",
   "id": "7c586544",
   "metadata": {},
   "source": [
    "### Task C"
   ]
  },
  {
   "cell_type": "code",
   "execution_count": 54,
   "id": "358a3395",
   "metadata": {},
   "outputs": [],
   "source": [
    "df['clean'] = clean_strings(df['raw'])\n",
    "# debug\n",
    "# print(df['raw'])\n",
    "# print(df['clean'])"
   ]
  },
  {
   "cell_type": "markdown",
   "id": "a3b6f755",
   "metadata": {},
   "source": [
    "### Task D"
   ]
  },
  {
   "cell_type": "code",
   "execution_count": 55,
   "id": "30444c2b",
   "metadata": {},
   "outputs": [
    {
     "name": "stdout",
     "output_type": "stream",
     "text": [
      "Cleaned data has 50 rows.\n",
      "Cleaned data has 6 unique names.\n",
      "Most common name in cleaned data is \"charlie\".\n"
     ]
    }
   ],
   "source": [
    "print(f\"Cleaned data has {df['clean']['clean'].size} rows.\")\n",
    "stats = df['clean']['clean'].value_counts()\n",
    "print(f\"Cleaned data has {df['clean']['clean'].nunique()} unique names.\")\n",
    "print(f\"Most common name in cleaned data is \\\"{stats.index[0]}\\\".\")"
   ]
  },
  {
   "cell_type": "markdown",
   "id": "5b1b6e99",
   "metadata": {},
   "source": [
    "### Task E"
   ]
  },
  {
   "cell_type": "code",
   "execution_count": 56,
   "id": "1c89f889",
   "metadata": {},
   "outputs": [],
   "source": [
    "#hacky mess (I think I broke something previously)\n",
    "pd.DataFrame({'raw': df['raw'].values.tolist(), 'clean': df['clean'].values.tolist()},index=range(50)).to_csv('messy_strings_clean.csv', index=False)"
   ]
  },
  {
   "cell_type": "markdown",
   "id": "4d1800c5",
   "metadata": {},
   "source": [
    "### Task F"
   ]
  },
  {
   "cell_type": "code",
   "execution_count": 57,
   "id": "f32f632a",
   "metadata": {},
   "outputs": [
    {
     "data": {
      "text/plain": [
       "<Axes: xlabel='clean'>"
      ]
     },
     "execution_count": 57,
     "metadata": {},
     "output_type": "execute_result"
    },
    {
     "data": {
      "image/png": "[encoded data removed]",
      "text/plain": [
       "<Figure size 640x480 with 1 Axes>"
      ]
     },
     "metadata": {},
     "output_type": "display_data"
    }
   ],
   "source": [
    "df['clean'].value_counts().head(5).plot.bar()"
   ]
  }
 ],
 "metadata": {
  "kernelspec": {
   "display_name": "lab-3",
   "language": "python",
   "name": "python3"
  },
  "language_info": {
   "codemirror_mode": {
    "name": "ipython",
    "version": 3
   },
   "file_extension": ".py",
   "mimetype": "text/x-python",
   "name": "python",
   "nbconvert_exporter": "python",
   "pygments_lexer": "ipython3",
   "version": "3.13.5"
  }
 },
 "nbformat": 4,
 "nbformat_minor": 5
}
